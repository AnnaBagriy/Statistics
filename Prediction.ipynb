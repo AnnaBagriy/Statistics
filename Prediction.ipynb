{
 "cells": [
  {
   "cell_type": "code",
   "execution_count": 119,
   "metadata": {},
   "outputs": [],
   "source": [
    "import numpy as np\n",
    "import pandas as pd\n",
    "import scipy.stats as stats\n",
    "import matplotlib.pyplot as plt\n",
    "import statsmodels.api as sm\n",
    "import pylab\n",
    "\n",
    "from sci_analysis import analyze\n",
    "from statsmodels.formula.api import ols\n",
    "from scipy import stats\n",
    "\n",
    "import sklearn.linear_model\n",
    "from sklearn.linear_model import LinearRegression\n",
    "from sklearn.model_selection import train_test_split\n",
    "from scipy.optimize import curve_fit\n",
    "\n",
    "import scipy.linalg\n",
    "import sklearn.linear_model\n",
    "from mpl_toolkits.mplot3d import Axes3D"
   ]
  },
  {
   "cell_type": "code",
   "execution_count": 120,
   "metadata": {},
   "outputs": [],
   "source": [
    "def load_dataset(filename, group_name, group_value):\n",
    "    df = pd.read_excel(filename).groupby(group_name).get_group(group_value)\n",
    "\n",
    "    return df"
   ]
  },
  {
   "cell_type": "code",
   "execution_count": 121,
   "metadata": {},
   "outputs": [],
   "source": [
    "def load_datasets(filename, df_1, df_2, df_3, group_name, group_value):\n",
    "    df = pd.read_excel(filename)\n",
    "    \n",
    "    grouped_df = df.groupby(group_name)\n",
    "    df = grouped_df.get_group(group_value)\n",
    "    df = df.sort_values(df_2)\n",
    "    \n",
    "    X, y = df[[df_1, df_2]], df[df_3]\n",
    "\n",
    "    return X, y"
   ]
  },
  {
   "cell_type": "markdown",
   "metadata": {},
   "source": [
    "### Constants"
   ]
  },
  {
   "cell_type": "code",
   "execution_count": 122,
   "metadata": {},
   "outputs": [],
   "source": [
    "filename = 'house01.xls'\n",
    "\n",
    "y_name = 'TOTALEXP'\n",
    "x1_name = 'TOTALRES'\n",
    "x2_name = 'STOTAL'\n",
    "\n",
    "r_name = 'COD_OBL'\n",
    "r_value = 'Lviv'"
   ]
  },
  {
   "cell_type": "code",
   "execution_count": 123,
   "metadata": {},
   "outputs": [],
   "source": [
    "df = load_dataset(filename, r_name, r_value)"
   ]
  },
  {
   "cell_type": "code",
   "execution_count": 124,
   "metadata": {},
   "outputs": [
    {
     "data": {
      "text/html": [
       "<style  type=\"text/css\" >\n",
       "    #T_ba2e36a2_52de_11ec_b661_b88a60845f6brow0_col0 {\n",
       "            background-color:  #b40426;\n",
       "        }    #T_ba2e36a2_52de_11ec_b661_b88a60845f6brow0_col1 {\n",
       "            background-color:  #f7ad90;\n",
       "        }    #T_ba2e36a2_52de_11ec_b661_b88a60845f6brow0_col2 {\n",
       "            background-color:  #3b4cc0;\n",
       "        }    #T_ba2e36a2_52de_11ec_b661_b88a60845f6brow1_col0 {\n",
       "            background-color:  #f59f80;\n",
       "        }    #T_ba2e36a2_52de_11ec_b661_b88a60845f6brow1_col1 {\n",
       "            background-color:  #b40426;\n",
       "        }    #T_ba2e36a2_52de_11ec_b661_b88a60845f6brow1_col2 {\n",
       "            background-color:  #6282ea;\n",
       "        }    #T_ba2e36a2_52de_11ec_b661_b88a60845f6brow2_col0 {\n",
       "            background-color:  #3b4cc0;\n",
       "        }    #T_ba2e36a2_52de_11ec_b661_b88a60845f6brow2_col1 {\n",
       "            background-color:  #3b4cc0;\n",
       "        }    #T_ba2e36a2_52de_11ec_b661_b88a60845f6brow2_col2 {\n",
       "            background-color:  #b40426;\n",
       "        }</style>  \n",
       "<table id=\"T_ba2e36a2_52de_11ec_b661_b88a60845f6b\" > \n",
       "<thead>    <tr> \n",
       "        <th class=\"blank level0\" ></th> \n",
       "        <th class=\"col_heading level0 col0\" >TOTALEXP</th> \n",
       "        <th class=\"col_heading level0 col1\" >TOTALRES</th> \n",
       "        <th class=\"col_heading level0 col2\" >STOTAL</th> \n",
       "    </tr></thead> \n",
       "<tbody>    <tr> \n",
       "        <th id=\"T_ba2e36a2_52de_11ec_b661_b88a60845f6blevel0_row0\" class=\"row_heading level0 row0\" >TOTALEXP</th> \n",
       "        <td id=\"T_ba2e36a2_52de_11ec_b661_b88a60845f6brow0_col0\" class=\"data row0 col0\" >1</td> \n",
       "        <td id=\"T_ba2e36a2_52de_11ec_b661_b88a60845f6brow0_col1\" class=\"data row0 col1\" >0.794295</td> \n",
       "        <td id=\"T_ba2e36a2_52de_11ec_b661_b88a60845f6brow0_col2\" class=\"data row0 col2\" >0.218138</td> \n",
       "    </tr>    <tr> \n",
       "        <th id=\"T_ba2e36a2_52de_11ec_b661_b88a60845f6blevel0_row1\" class=\"row_heading level0 row1\" >TOTALRES</th> \n",
       "        <td id=\"T_ba2e36a2_52de_11ec_b661_b88a60845f6brow1_col0\" class=\"data row1 col0\" >0.794295</td> \n",
       "        <td id=\"T_ba2e36a2_52de_11ec_b661_b88a60845f6brow1_col1\" class=\"data row1 col1\" >1</td> \n",
       "        <td id=\"T_ba2e36a2_52de_11ec_b661_b88a60845f6brow1_col2\" class=\"data row1 col2\" >0.317992</td> \n",
       "    </tr>    <tr> \n",
       "        <th id=\"T_ba2e36a2_52de_11ec_b661_b88a60845f6blevel0_row2\" class=\"row_heading level0 row2\" >STOTAL</th> \n",
       "        <td id=\"T_ba2e36a2_52de_11ec_b661_b88a60845f6brow2_col0\" class=\"data row2 col0\" >0.218138</td> \n",
       "        <td id=\"T_ba2e36a2_52de_11ec_b661_b88a60845f6brow2_col1\" class=\"data row2 col1\" >0.317992</td> \n",
       "        <td id=\"T_ba2e36a2_52de_11ec_b661_b88a60845f6brow2_col2\" class=\"data row2 col2\" >1</td> \n",
       "    </tr></tbody> \n",
       "</table> "
      ],
      "text/plain": [
       "<pandas.io.formats.style.Styler at 0x1babadcd1d0>"
      ]
     },
     "execution_count": 124,
     "metadata": {},
     "output_type": "execute_result"
    }
   ],
   "source": [
    "corr = df[list([y_name, x1_name, x2_name])].corr(method='pearson')\n",
    "corr.style.background_gradient(cmap='coolwarm')"
   ]
  },
  {
   "cell_type": "code",
   "execution_count": 125,
   "metadata": {},
   "outputs": [],
   "source": [
    "X, y = load_datasets(filename, x1_name, x2_name, y_name, r_name, r_value)"
   ]
  },
  {
   "cell_type": "code",
   "execution_count": 126,
   "metadata": {},
   "outputs": [
    {
     "data": {
      "image/png": "[encoded data removed]",
      "text/plain": [
       "<Figure size 432x288 with 1 Axes>"
      ]
     },
     "metadata": {},
     "output_type": "display_data"
    }
   ],
   "source": [
    "x1 = X[x1_name]\n",
    "\n",
    "_ = plt.scatter(x1, y)"
   ]
  },
  {
   "cell_type": "code",
   "execution_count": 127,
   "metadata": {},
   "outputs": [
    {
     "data": {
      "image/png": "[encoded data removed]",
      "text/plain": [
       "<Figure size 432x288 with 1 Axes>"
      ]
     },
     "metadata": {},
     "output_type": "display_data"
    }
   ],
   "source": [
    "x2 = X[x2_name]\n",
    "\n",
    "_ = plt.scatter(x2, y)"
   ]
  },
  {
   "cell_type": "code",
   "execution_count": 128,
   "metadata": {},
   "outputs": [
    {
     "name": "stdout",
     "output_type": "stream",
     "text": [
      "statistics_1 = 0.7942945845574231\n",
      "p_value = 7.632715647229527e-115\n",
      "\n",
      "statistics_2 = 0.2181380360518438\n",
      "p_value = 4.7166581248089056e-07\n"
     ]
    }
   ],
   "source": [
    "statistics_1, p_value_1 = stats.stats.pearsonr(x1, y)\n",
    "\n",
    "print('statistics_1 =', statistics_1)\n",
    "print('p_value =', p_value_1)\n",
    "print()\n",
    "\n",
    "statistics_2, p_value_2 = stats.stats.pearsonr(x2, y)\n",
    "\n",
    "print('statistics_2 =', statistics_2)\n",
    "print('p_value =', p_value_2)"
   ]
  },
  {
   "cell_type": "code",
   "execution_count": 129,
   "metadata": {},
   "outputs": [
    {
     "name": "stdout",
     "output_type": "stream",
     "text": [
      "intercept: b_0 = -1.8189894035458565e-12\n",
      "slope: b_1 = [1. 1.]\n",
      "score: R^2 = 1.0\n"
     ]
    }
   ],
   "source": [
    "model = LinearRegression()\n",
    "\n",
    "xx = np.array(X)\n",
    "yy = xx.T[0] + xx.T[1]\n",
    "\n",
    "model.fit(xx, yy)\n",
    "\n",
    "score = model.score(xx, yy)\n",
    "    \n",
    "print('intercept: b_0 =', model.intercept_) \n",
    "print('slope: b_1 =', model.coef_)\n",
    "print('score: R^2 =', score)\n",
    "\n",
    "y_pred = model.predict(xx)\n",
    "\n",
    "result = pd.DataFrame({'Actual': yy, 'Predicted': y_pred})"
   ]
  },
  {
   "cell_type": "code",
   "execution_count": 130,
   "metadata": {},
   "outputs": [
    {
     "name": "stdout",
     "output_type": "stream",
     "text": [
      "intercept: b_0 = -37110292.58935148\n",
      "slope: b_1 = [1237958.59042025]\n",
      "score: R^2 = 0.6750728929944529\n"
     ]
    }
   ],
   "source": [
    "model = LinearRegression()\n",
    "\n",
    "xx = np.array(x2)\n",
    "yy = xx**2*y\n",
    "\n",
    "model.fit(xx.reshape(-1, 1), yy)\n",
    "\n",
    "score = model.score(xx.reshape(-1, 1), yy)\n",
    "    \n",
    "print('intercept: b_0 =', model.intercept_) \n",
    "print('slope: b_1 =', model.coef_)\n",
    "print('score: R^2 =', score)"
   ]
  },
  {
   "cell_type": "code",
   "execution_count": 131,
   "metadata": {},
   "outputs": [],
   "source": [
    "X_train, X_test, y_train, y_test = train_test_split(X, y, test_size=0.2)\n",
    "\n",
    "X_train = np.array(X_train)\n",
    "y_train = np.array(y_train)\n",
    "\n",
    "X_test = np.array(X_test)\n",
    "y_test = np.array(y_test)"
   ]
  },
  {
   "cell_type": "code",
   "execution_count": 132,
   "metadata": {},
   "outputs": [
    {
     "name": "stdout",
     "output_type": "stream",
     "text": [
      "intercept: b_0 = 1838.197053336493\n",
      "slope: b_1 = [ 0.95478577 -6.11199664]\n",
      "score: R^2 = 0.6376262864937714\n"
     ]
    }
   ],
   "source": [
    "model = LinearRegression()\n",
    "\n",
    "model.fit(X_train, y_train)\n",
    "\n",
    "score = model.score(X_train, y_train)\n",
    "\n",
    "print('intercept: b_0 =', model.intercept_) \n",
    "print('slope: b_1 =', model.coef_)\n",
    "print('score: R^2 =', score)"
   ]
  },
  {
   "cell_type": "code",
   "execution_count": 149,
   "metadata": {},
   "outputs": [],
   "source": [
    "eps = y_train - model.coef_[0] * X_train[:, 0] - model.coef_[1] * X_train[:, 1] - model.intercept_"
   ]
  },
  {
   "cell_type": "code",
   "execution_count": 150,
   "metadata": {},
   "outputs": [
    {
     "name": "stdout",
     "output_type": "stream",
     "text": [
      "alpha = 0.05\n",
      "\n",
      "statistics = 0.6052631578947368\n",
      "pvalue = 0.0\n"
     ]
    }
   ],
   "source": [
    "alpha = 0.05\n",
    "\n",
    "print('alpha =', alpha)\n",
    "print()\n",
    "\n",
    "statistics, pvalue = stats.kstest(eps, 'norm')\n",
    "\n",
    "print('statistics =', statistics)\n",
    "print('pvalue =', pvalue)"
   ]
  },
  {
   "cell_type": "code",
   "execution_count": 184,
   "metadata": {},
   "outputs": [
    {
     "name": "stdout",
     "output_type": "stream",
     "text": [
      "intercept: b_0 = 1.9890683689653637\n",
      "slope: b_1 = [ 0.79655297 -0.01401397]\n",
      "score: R^2 = 0.7112327119280276\n"
     ]
    }
   ],
   "source": [
    "model = LinearRegression()\n",
    "\n",
    "X_train_log = np.log(X_train)\n",
    "y_train_log = np.log(y_train)\n",
    "\n",
    "model.fit(X_train_log, y_train_log)\n",
    "\n",
    "score = model.score(X_train_log, y_train_log)\n",
    "\n",
    "print('intercept: b_0 =', model.intercept_) \n",
    "print('slope: b_1 =', model.coef_)\n",
    "print('score: R^2 =', score)"
   ]
  },
  {
   "cell_type": "code",
   "execution_count": 204,
   "metadata": {},
   "outputs": [],
   "source": [
    "eps_log = np.log(y_train_log) - model.coef_[0] * np.log(X_train_log[:, 0]) - model.coef_[1] * np.log(X_train_log[:, 0]) - model.intercept_"
   ]
  },
  {
   "cell_type": "code",
   "execution_count": 203,
   "metadata": {},
   "outputs": [
    {
     "name": "stdout",
     "output_type": "stream",
     "text": [
      "alpha = 0.05\n",
      "\n",
      "statistics = 1.0\n",
      "pvalue = 0.0\n"
     ]
    }
   ],
   "source": [
    "alpha = 0.05\n",
    "\n",
    "print('alpha =', alpha)\n",
    "print()\n",
    "\n",
    "statistics, pvalue = stats.kstest(eps, 'norm')\n",
    "\n",
    "print('statistics =', statistics)\n",
    "print('pvalue =', pvalue)"
   ]
  },
  {
   "cell_type": "code",
   "execution_count": 218,
   "metadata": {},
   "outputs": [
    {
     "name": "stdout",
     "output_type": "stream",
     "text": [
      "alpha = 0.05\n",
      "\n",
      "statistics = 0.5502392344497608\n",
      "pvalue = 0.0\n"
     ]
    },
    {
     "data": {
      "image/png": "[encoded data removed]",
      "text/plain": [
       "<Figure size 432x288 with 1 Axes>"
      ]
     },
     "metadata": {},
     "output_type": "display_data"
    }
   ],
   "source": [
    "y_pred = np.exp(model.intercept_) * X_train[:,0] ** model.coef_[0] * X_train[:,1] ** model.coef_[1]\n",
    "\n",
    "#y_pred = model.coef_[0] * X_train_log[:, 0] + model.coef_[1] * np.log(X_train_log[:, 0]) + model.intercept_\n",
    "\n",
    "eps = y_pred-y_train\n",
    "\n",
    "alpha = 0.05\n",
    "\n",
    "print('alpha =', alpha)\n",
    "print()\n",
    "\n",
    "statistics, pvalue = stats.kstest(eps, 'norm')\n",
    "\n",
    "print('statistics =', statistics)\n",
    "print('pvalue =', pvalue)\n",
    "\n",
    "result = pd.DataFrame({'Actual': y_train, 'Predicted': y_pred})\n",
    "\n",
    "result.head(10)\n",
    "\n",
    "_ = plt.hist(eps)"
   ]
  },
  {
   "cell_type": "code",
   "execution_count": 134,
   "metadata": {},
   "outputs": [
    {
     "name": "stdout",
     "output_type": "stream",
     "text": [
      "intercept: b_0 = 1838.197053336493\n",
      "slope: b_1 = [ 0.95478577 -6.11199664]\n",
      "score: R^2 = 0.6376262864937714\n"
     ]
    },
    {
     "data": {
      "text/plain": [
       "array([8255884.34591265])"
      ]
     },
     "execution_count": 134,
     "metadata": {},
     "output_type": "execute_result"
    },
    {
     "data": {
      "image/png": "[encoded data removed]",
      "text/plain": [
       "<Figure size 432x288 with 1 Axes>"
      ]
     },
     "metadata": {},
     "output_type": "display_data"
    }
   ],
   "source": [
    "model = LinearRegression()\n",
    "\n",
    "x0 = X_train\n",
    "y0 = y_train\n",
    "\n",
    "model.fit(x0, y0)\n",
    "\n",
    "score = model.score(x0, y0)\n",
    "\n",
    "print('intercept: b_0 =', model.intercept_) \n",
    "print('slope: b_1 =', model.coef_)\n",
    "print('score: R^2 =', score)\n",
    "\n",
    "y_pred = model.predict(X_train)\n",
    "\n",
    "result = pd.DataFrame({'Actual': y_train, 'Predicted': y_pred})\n",
    "\n",
    "a = sklearn.metrics.mean_squared_error(y_train, y_pred, multioutput='raw_values')\n",
    "_ = plt.hist(a)\n",
    "a"
   ]
  },
  {
   "cell_type": "code",
   "execution_count": 195,
   "metadata": {},
   "outputs": [
    {
     "name": "stdout",
     "output_type": "stream",
     "text": [
      "                 Generalized Linear Model Regression Results                  \n",
      "==============================================================================\n",
      "Dep. Variable:          log(TOTALEXP)   No. Observations:                  523\n",
      "Model:                            GLM   Df Residuals:                      520\n",
      "Model Family:                Gaussian   Df Model:                            2\n",
      "Link Function:               identity   Scale:                        0.093792\n",
      "Method:                          IRLS   Log-Likelihood:                -121.72\n",
      "Date:                Wed, 01 Dec 2021   Deviance:                       48.772\n",
      "Time:                        22:12:14   Pearson chi2:                     48.8\n",
      "No. Iterations:                     3   Covariance Type:             nonrobust\n",
      "=================================================================================\n",
      "                    coef    std err          z      P>|z|      [0.025      0.975]\n",
      "---------------------------------------------------------------------------------\n",
      "Intercept         1.9188      0.195      9.840      0.000       1.537       2.301\n",
      "log(TOTALRES)     0.8059      0.023     35.109      0.000       0.761       0.851\n",
      "log(STOTAL)      -0.0181      0.017     -1.074      0.283      -0.051       0.015\n",
      "=================================================================================\n"
     ]
    },
    {
     "data": {
      "text/html": [
       "<div>\n",
       "<style scoped>\n",
       "    .dataframe tbody tr th:only-of-type {\n",
       "        vertical-align: middle;\n",
       "    }\n",
       "\n",
       "    .dataframe tbody tr th {\n",
       "        vertical-align: top;\n",
       "    }\n",
       "\n",
       "    .dataframe thead th {\n",
       "        text-align: right;\n",
       "    }\n",
       "</style>\n",
       "<table border=\"1\" class=\"dataframe\">\n",
       "  <thead>\n",
       "    <tr style=\"text-align: right;\">\n",
       "      <th></th>\n",
       "      <th>Actual</th>\n",
       "      <th>Predicted</th>\n",
       "    </tr>\n",
       "  </thead>\n",
       "  <tbody>\n",
       "    <tr>\n",
       "      <th>0</th>\n",
       "      <td>4399.680</td>\n",
       "      <td>8.029659</td>\n",
       "    </tr>\n",
       "    <tr>\n",
       "      <th>1</th>\n",
       "      <td>8090.125</td>\n",
       "      <td>8.669640</td>\n",
       "    </tr>\n",
       "    <tr>\n",
       "      <th>2</th>\n",
       "      <td>7221.025</td>\n",
       "      <td>8.631529</td>\n",
       "    </tr>\n",
       "    <tr>\n",
       "      <th>3</th>\n",
       "      <td>6010.010</td>\n",
       "      <td>8.360442</td>\n",
       "    </tr>\n",
       "    <tr>\n",
       "      <th>4</th>\n",
       "      <td>4842.245</td>\n",
       "      <td>7.874531</td>\n",
       "    </tr>\n",
       "    <tr>\n",
       "      <th>5</th>\n",
       "      <td>11259.670</td>\n",
       "      <td>8.676853</td>\n",
       "    </tr>\n",
       "    <tr>\n",
       "      <th>6</th>\n",
       "      <td>7306.910</td>\n",
       "      <td>8.418159</td>\n",
       "    </tr>\n",
       "    <tr>\n",
       "      <th>7</th>\n",
       "      <td>6373.335</td>\n",
       "      <td>8.031910</td>\n",
       "    </tr>\n",
       "    <tr>\n",
       "      <th>8</th>\n",
       "      <td>7352.560</td>\n",
       "      <td>8.695340</td>\n",
       "    </tr>\n",
       "    <tr>\n",
       "      <th>9</th>\n",
       "      <td>10157.035</td>\n",
       "      <td>9.431929</td>\n",
       "    </tr>\n",
       "  </tbody>\n",
       "</table>\n",
       "</div>"
      ],
      "text/plain": [
       "      Actual  Predicted\n",
       "0   4399.680   8.029659\n",
       "1   8090.125   8.669640\n",
       "2   7221.025   8.631529\n",
       "3   6010.010   8.360442\n",
       "4   4842.245   7.874531\n",
       "5  11259.670   8.676853\n",
       "6   7306.910   8.418159\n",
       "7   6373.335   8.031910\n",
       "8   7352.560   8.695340\n",
       "9  10157.035   9.431929"
      ]
     },
     "execution_count": 195,
     "metadata": {},
     "output_type": "execute_result"
    }
   ],
   "source": [
    "from __future__ import print_function\n",
    "import statsmodels.api as sm\n",
    "import statsmodels.formula.api as smf\n",
    "\n",
    "def log(x):\n",
    "    return np.log(x)\n",
    "\n",
    "formula = 'log(TOTALEXP) ~ log(TOTALRES) + log(STOTAL)'\n",
    "\n",
    "mod1 = smf.glm(formula=formula, data=df[['TOTALEXP', 'TOTALRES', 'STOTAL']]).fit()\n",
    "print(mod1.summary())\n",
    "\n",
    "y_pred = mod1.params['Intercept'] + X_train[:,0] * mod1.params['log(TOTALRES)'] + X_train[:,1] * mod1.params['log(STOTAL)']\n",
    "\n",
    "result = pd.DataFrame({'Actual': y_train, 'Predicted': y_pred})\n",
    "\n",
    "result.head(10)"
   ]
  },
  {
   "cell_type": "code",
   "execution_count": 193,
   "metadata": {},
   "outputs": [
    {
     "name": "stdout",
     "output_type": "stream",
     "text": [
      "alpha = 0.05\n",
      "\n",
      "statistics = 1.0\n",
      "pvalue = 0.0\n"
     ]
    }
   ],
   "source": [
    "eps = np.abs(y_pred - y_train)\n",
    "\n",
    "alpha = 0.05\n",
    "\n",
    "print('alpha =', alpha)\n",
    "print()\n",
    "\n",
    "statistics, pvalue = stats.kstest(eps, 'norm')\n",
    "\n",
    "print('statistics =', statistics)\n",
    "print('pvalue =', pvalue)"
   ]
  },
  {
   "cell_type": "code",
   "execution_count": null,
   "metadata": {},
   "outputs": [],
   "source": [
    "def sigmoid(x1, a, b):\n",
    "    y = a + b*np.sin(x1)\n",
    "    \n",
    "    return y"
   ]
  },
  {
   "cell_type": "code",
   "execution_count": null,
   "metadata": {},
   "outputs": [],
   "source": [
    "popt, pcov = curve_fit(sigmoid, x2, y)\n",
    "\n",
    "print(popt)\n",
    "print(pcov)"
   ]
  },
  {
   "cell_type": "code",
   "execution_count": null,
   "metadata": {},
   "outputs": [],
   "source": [
    "Y_pred = sigmoid(x2, popt[0], popt[1])\n",
    "\n",
    "#plot initial prediction against datapoints\n",
    "plt.plot(x2, Y_pred)\n",
    "plt.plot(x2, y, 'ro')"
   ]
  },
  {
   "cell_type": "code",
   "execution_count": null,
   "metadata": {},
   "outputs": [],
   "source": [
    "import numpy, scipy, scipy.optimize\n",
    "import matplotlib\n",
    "from mpl_toolkits.mplot3d import  Axes3D\n",
    "from matplotlib import cm # to colormap 3D surfaces from blue to red\n",
    "import matplotlib.pyplot as plt\n",
    "\n",
    "graphWidth = 800 # units are pixels\n",
    "graphHeight = 600 # units are pixels\n",
    "\n",
    "# 3D contour plot lines\n",
    "numberOfContourLines = 16\n",
    "\n",
    "\n",
    "def SurfacePlot(func, data, fittedParameters):\n",
    "    f = plt.figure(figsize=(graphWidth/100.0, graphHeight/100.0), dpi=100)\n",
    "\n",
    "    matplotlib.pyplot.grid(True)\n",
    "    axes = Axes3D(f)\n",
    "\n",
    "    x_data = data[0]\n",
    "    y_data = data[1]\n",
    "    z_data = data[2]\n",
    "\n",
    "    xModel = numpy.linspace(min(x_data), max(x_data), 20)\n",
    "    yModel = numpy.linspace(min(y_data), max(y_data), 20)\n",
    "    X, Y = numpy.meshgrid(xModel, yModel)\n",
    "\n",
    "    Z = func(numpy.array([X, Y]), *fittedParameters)\n",
    "\n",
    "    axes.plot_surface(X, Y, Z, rstride=1, cstride=1, cmap=cm.coolwarm, linewidth=1, antialiased=True)\n",
    "\n",
    "    axes.scatter(x_data, y_data, z_data) # show data along with plotted surface\n",
    "\n",
    "    axes.set_title('Surface Plot (click-drag with mouse)') # add a title for surface plot\n",
    "    axes.set_xlabel('X Data') # X axis data label\n",
    "    axes.set_ylabel('Y Data') # Y axis data label\n",
    "    axes.set_zlabel('Z Data') # Z axis data label\n",
    "\n",
    "    plt.show()\n",
    "    plt.close('all') # clean up after using pyplot or else thaere can be memory and process problems\n",
    "\n",
    "\n",
    "def ContourPlot(func, data, fittedParameters):\n",
    "    f = plt.figure(figsize=(graphWidth/100.0, graphHeight/100.0), dpi=100)\n",
    "    axes = f.add_subplot(111)\n",
    "\n",
    "    x_data = data[0]\n",
    "    y_data = data[1]\n",
    "    z_data = data[2]\n",
    "\n",
    "    xModel = numpy.linspace(min(x_data), max(x_data), 20)\n",
    "    yModel = numpy.linspace(min(y_data), max(y_data), 20)\n",
    "    X, Y = numpy.meshgrid(xModel, yModel)\n",
    "\n",
    "    Z = func(numpy.array([X, Y]), *fittedParameters)\n",
    "\n",
    "    axes.plot(x_data, y_data, 'o')\n",
    "\n",
    "    axes.set_title('Contour Plot') # add a title for contour plot\n",
    "    axes.set_xlabel('X Data') # X axis data label\n",
    "    axes.set_ylabel('Y Data') # Y axis data label\n",
    "\n",
    "    CS = matplotlib.pyplot.contour(X, Y, Z, numberOfContourLines, colors='k')\n",
    "    matplotlib.pyplot.clabel(CS, inline=1, fontsize=10) # labels for contours\n",
    "\n",
    "    plt.show()\n",
    "    plt.close('all') # clean up after using pyplot or else thaere can be memory and process problems\n",
    "\n",
    "\n",
    "def ScatterPlot(data):\n",
    "    f = plt.figure(figsize=(graphWidth/100.0, graphHeight/100.0), dpi=100)\n",
    "\n",
    "    matplotlib.pyplot.grid(True)\n",
    "    axes = Axes3D(f)\n",
    "    x_data = data[0]\n",
    "    y_data = data[1]\n",
    "    z_data = data[2]\n",
    "\n",
    "    axes.scatter(x_data, y_data, z_data)\n",
    "\n",
    "    axes.set_title('Scatter Plot (click-drag with mouse)')\n",
    "    axes.set_xlabel('X Data')\n",
    "    axes.set_ylabel('Y Data')\n",
    "    axes.set_zlabel('Z Data')\n",
    "\n",
    "    plt.show()\n",
    "    plt.close('all') # clean up after using pyplot or else thaere can be memory and process problems\n",
    "\n",
    "\n",
    "def func(data, a, alpha, beta):\n",
    "    x1 = data[0]\n",
    "    x2 = data[1]\n",
    "\n",
    "    return a + alpha * x1 + x2 / (beta * x2)\n",
    "\n",
    "\n",
    "if __name__ == \"__main__\":\n",
    "    xData = X_train[:, 0]\n",
    "    yData = X_train[:, 1]\n",
    "    zData = y_train\n",
    "\n",
    "    data = [xData, yData, zData]\n",
    "\n",
    "    initialParameters = [1.0, 1.0, 1.0] # these are the same as scipy default values in this example\n",
    "\n",
    "    # here a non-linear surface fit is made with scipy's curve_fit()\n",
    "    fittedParameters, pcov = scipy.optimize.curve_fit(func, [xData, yData], zData)\n",
    "\n",
    "    #ScatterPlot(data)\n",
    "    #SurfacePlot(func, data, fittedParameters)\n",
    "    #ContourPlot(func, data, fittedParameters)\n",
    "\n",
    "    print('fitted prameters', fittedParameters)\n",
    "\n",
    "    modelPredictions = func(data, *fittedParameters) \n",
    "\n",
    "    absError = modelPredictions - zData\n",
    "\n",
    "    SE = numpy.square(absError) # squared errors\n",
    "    MSE = numpy.mean(SE) # mean squared errors\n",
    "    RMSE = numpy.sqrt(MSE) # Root Mean Squared Error, RMSE\n",
    "    Rsquared = 1.0 - (numpy.var(absError) / numpy.var(zData))\n",
    "    print('RMSE:', RMSE)\n",
    "    print('R-squared:', Rsquared)"
   ]
  },
  {
   "cell_type": "code",
   "execution_count": null,
   "metadata": {},
   "outputs": [],
   "source": []
  }
 ],
 "metadata": {
  "kernelspec": {
   "display_name": "Python 3",
   "language": "python",
   "name": "python3"
  },
  "language_info": {
   "codemirror_mode": {
    "name": "ipython",
    "version": 3
   },
   "file_extension": ".py",
   "mimetype": "text/x-python",
   "name": "python",
   "nbconvert_exporter": "python",
   "pygments_lexer": "ipython3",
   "version": "3.6.5"
  }
 },
 "nbformat": 4,
 "nbformat_minor": 2
}
