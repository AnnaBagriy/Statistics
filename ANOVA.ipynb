{
 "cells": [
  {
   "cell_type": "code",
   "execution_count": 1,
   "metadata": {},
   "outputs": [],
   "source": [
    "import numpy as np\n",
    "import pandas as pd\n",
    "import scipy.stats as stats\n",
    "\n",
    "from sci_analysis import analyze"
   ]
  },
  {
   "cell_type": "code",
   "execution_count": 2,
   "metadata": {},
   "outputs": [],
   "source": [
    "def load_dataset(filename):\n",
    "    df = pd.read_excel(filename)\n",
    "\n",
    "    return df"
   ]
  },
  {
   "cell_type": "markdown",
   "metadata": {},
   "source": [
    "### Constants"
   ]
  },
  {
   "cell_type": "code",
   "execution_count": 3,
   "metadata": {},
   "outputs": [],
   "source": [
    "filename = 'member.xls'\n",
    "\n",
    "col_1 = 'Age'\n",
    "col_2 = 'Region'\n",
    "\n",
    "alpha = 0.05"
   ]
  },
  {
   "cell_type": "code",
   "execution_count": 4,
   "metadata": {},
   "outputs": [],
   "source": [
    "data = load_dataset(filename)\n",
    "_ = data.dropna(subset = [col_1, col_2], inplace=True)\n",
    "\n",
    "grps = pd.unique(data[col_2])\n",
    "d_data = {grp:data[col_1][data[col_2] == grp] for grp in grps}"
   ]
  },
  {
   "cell_type": "code",
   "execution_count": 5,
   "metadata": {},
   "outputs": [
    {
     "name": "stdout",
     "output_type": "stream",
     "text": [
      "k (cities) = 8\n",
      "N (all items) = 10064\n",
      "n (items in each city) =\n",
      " Region\n",
      "Cherk     864\n",
      "Chern     722\n",
      "Dnipr    1657\n",
      "Don      2049\n",
      "Khark    1109\n",
      "Lviv     1593\n",
      "Odess    1064\n",
      "Vinn     1006\n",
      "dtype: int64\n"
     ]
    }
   ],
   "source": [
    "k = len(pd.unique(data[col_2]))\n",
    "N = len(data.values)\n",
    "n = data.groupby(col_2).size()\n",
    "\n",
    "print('k (cities) =', k)\n",
    "print('N (all items) =', N)\n",
    "print('n (items in each city) =\\n', n)"
   ]
  },
  {
   "cell_type": "code",
   "execution_count": 6,
   "metadata": {},
   "outputs": [
    {
     "name": "stderr",
     "output_type": "stream",
     "text": [
      "C:\\Users\\TEMP\\Anaconda3\\lib\\site-packages\\numpy\\core\\_asarray.py:83: VisibleDeprecationWarning: Creating an ndarray from ragged nested sequences (which is a list-or-tuple of lists-or-tuples-or ndarrays with different lengths or shapes) is deprecated. If you meant to do this, you must specify 'dtype=object' when creating the ndarray\n",
      "  return array(a, dtype, copy=False, order=order)\n"
     ]
    },
    {
     "data": {
      "text/plain": [
       "<Figure size 1150x500 with 3 Axes>"
      ]
     },
     "metadata": {},
     "output_type": "display_data"
    },
    {
     "name": "stdout",
     "output_type": "stream",
     "text": [
      "\n",
      "\n",
      "Overall Statistics\n",
      "------------------\n",
      "\n",
      "Number of Groups =  8\n",
      "Total            =  10064\n",
      "Grand Mean       =  40.5500\n",
      "Pooled Std Dev   =  21.8904\n",
      "Grand Median     =  41.0000\n",
      "\n",
      "\n",
      "Group Statistics\n",
      "----------------\n",
      "\n",
      "n             Mean          Std Dev       Min           Median        Max           Group         \n",
      "--------------------------------------------------------------------------------------------------\n",
      "864            41.2905       22.1012       1.0000        42.0000       93.0000      Cherk         \n",
      "722            45.3047       22.8101       1.0000        47.0000       92.0000      Chern         \n",
      "1657           39.7103       21.7256       1.0000        40.0000       92.0000      Dnipr         \n",
      "2049           40.5017       21.3698       1.0000        41.0000       95.0000      Don           \n",
      "1109           41.1605       21.3463       1.0000        41.0000       95.0000      Khark         \n",
      "1593           37.0452       22.1393       1.0000        36.0000       95.0000      Lviv          \n",
      "1064           39.7754       22.2696       1.0000        41.0000       91.0000      Odess         \n",
      "1006           39.6113       22.1438       1.0000        39.0000       93.0000      Vinn          \n",
      "\n",
      "\n",
      "Levene Test\n",
      "-----------\n",
      "\n",
      "alpha   =  0.0500\n",
      "W value =  1.9226\n",
      "p value =  0.0618\n",
      "\n",
      "H0: Variances are equal\n",
      "\n",
      "\n",
      "\n",
      "Kruskal-Wallis\n",
      "--------------\n",
      "\n",
      "alpha   =  0.0500\n",
      "h value =  79.0754\n",
      "p value =  0.0000\n",
      "\n",
      "HA: Group means are not matched\n",
      "\n"
     ]
    }
   ],
   "source": [
    "df = load_dataset(filename)\n",
    "\n",
    "analyze(\n",
    "    d_data,\n",
    "    groups=list(grps),\n",
    "    categories=col_2\n",
    ")"
   ]
  },
  {
   "cell_type": "markdown",
   "metadata": {},
   "source": [
    "### F_critical"
   ]
  },
  {
   "cell_type": "code",
   "execution_count": 7,
   "metadata": {},
   "outputs": [
    {
     "data": {
      "text/plain": [
       "2.0104976579109417"
      ]
     },
     "execution_count": 7,
     "metadata": {},
     "output_type": "execute_result"
    }
   ],
   "source": [
    "stats.f.ppf(q = 1 - alpha, dfn = k - 1, dfd = N - k)"
   ]
  },
  {
   "cell_type": "code",
   "execution_count": 8,
   "metadata": {},
   "outputs": [],
   "source": [
    "statistics, p_value = stats.f_oneway(\n",
    "    d_data['Cherk'], \n",
    "    d_data['Chern'], \n",
    "    d_data['Dnipr'], \n",
    "    d_data['Don'], \n",
    "    d_data['Khark'], \n",
    "    d_data['Lviv'], \n",
    "    d_data['Odess'], \n",
    "    d_data['Vinn'])"
   ]
  },
  {
   "cell_type": "code",
   "execution_count": 9,
   "metadata": {},
   "outputs": [
    {
     "name": "stdout",
     "output_type": "stream",
     "text": [
      "statistics = 11.272362339537937\n",
      "p_value = 2.6347104037918237e-14\n"
     ]
    }
   ],
   "source": [
    "print('statistics =', statistics)\n",
    "print('p_value =', p_value)"
   ]
  }
 ],
 "metadata": {
  "kernelspec": {
   "display_name": "Python 3",
   "language": "python",
   "name": "python3"
  },
  "language_info": {
   "codemirror_mode": {
    "name": "ipython",
    "version": 3
   },
   "file_extension": ".py",
   "mimetype": "text/x-python",
   "name": "python",
   "nbconvert_exporter": "python",
   "pygments_lexer": "ipython3",
   "version": "3.6.5"
  }
 },
 "nbformat": 4,
 "nbformat_minor": 2
}
