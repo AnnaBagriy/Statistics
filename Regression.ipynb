{
 "cells": [
  {
   "cell_type": "code",
   "execution_count": 1,
   "metadata": {},
   "outputs": [],
   "source": [
    "import numpy as np\n",
    "import pandas as pd\n",
    "import scipy.stats as st\n",
    "import matplotlib.pyplot as plt"
   ]
  },
  {
   "cell_type": "code",
   "execution_count": 2,
   "metadata": {},
   "outputs": [],
   "source": [
    "def load_dataset(filename):\n",
    "    df = pd.read_excel(filename)\n",
    "\n",
    "    return df"
   ]
  },
  {
   "cell_type": "markdown",
   "metadata": {},
   "source": [
    "### Constants"
   ]
  },
  {
   "cell_type": "code",
   "execution_count": 3,
   "metadata": {},
   "outputs": [],
   "source": [
    "filename = 'crime.xls'\n",
    "\n",
    "col_1 = 'EX0'\n",
    "col_2 = 'LF'\n",
    "col_3 = 'R'"
   ]
  },
  {
   "cell_type": "code",
   "execution_count": 4,
   "metadata": {},
   "outputs": [],
   "source": [
    "df = load_dataset(filename)"
   ]
  },
  {
   "cell_type": "code",
   "execution_count": 5,
   "metadata": {},
   "outputs": [],
   "source": [
    "X = df[[col_1, col_2]]\n",
    "\n",
    "x1 = np.array(X[col_1])\n",
    "x2 = np.array(X[col_2])\n",
    "\n",
    "y = np.array(df[col_3])"
   ]
  },
  {
   "cell_type": "code",
   "execution_count": 6,
   "metadata": {},
   "outputs": [
    {
     "data": {
      "image/png": "[encoded data removed]",
      "text/plain": [
       "<Figure size 432x288 with 1 Axes>"
      ]
     },
     "metadata": {},
     "output_type": "display_data"
    }
   ],
   "source": [
    "_ = plt.scatter(x1, y, s = 50)\n",
    "\n",
    "_ = plt.xlabel('EX0')\n",
    "_ = plt.ylabel('R')"
   ]
  },
  {
   "cell_type": "code",
   "execution_count": 7,
   "metadata": {},
   "outputs": [
    {
     "data": {
      "image/png": "[encoded data removed]",
      "text/plain": [
       "<Figure size 432x288 with 1 Axes>"
      ]
     },
     "metadata": {},
     "output_type": "display_data"
    }
   ],
   "source": [
    "_ = plt.scatter(x2, y, s = 50)\n",
    "\n",
    "_ = plt.xlabel('LF')\n",
    "_ = plt.ylabel('R')"
   ]
  },
  {
   "cell_type": "code",
   "execution_count": 8,
   "metadata": {},
   "outputs": [
    {
     "data": {
      "text/html": [
       "<style  type=\"text/css\" >\n",
       "    #T_8a47809c_52c4_11ec_831d_b88a60845f6brow0_col0 {\n",
       "            background-color:  #b40426;\n",
       "        }    #T_8a47809c_52c4_11ec_831d_b88a60845f6brow0_col1 {\n",
       "            background-color:  #f6bfa6;\n",
       "        }    #T_8a47809c_52c4_11ec_831d_b88a60845f6brow0_col2 {\n",
       "            background-color:  #516ddb;\n",
       "        }    #T_8a47809c_52c4_11ec_831d_b88a60845f6brow1_col0 {\n",
       "            background-color:  #f3c7b1;\n",
       "        }    #T_8a47809c_52c4_11ec_831d_b88a60845f6brow1_col1 {\n",
       "            background-color:  #b40426;\n",
       "        }    #T_8a47809c_52c4_11ec_831d_b88a60845f6brow1_col2 {\n",
       "            background-color:  #3b4cc0;\n",
       "        }    #T_8a47809c_52c4_11ec_831d_b88a60845f6brow2_col0 {\n",
       "            background-color:  #3b4cc0;\n",
       "        }    #T_8a47809c_52c4_11ec_831d_b88a60845f6brow2_col1 {\n",
       "            background-color:  #3b4cc0;\n",
       "        }    #T_8a47809c_52c4_11ec_831d_b88a60845f6brow2_col2 {\n",
       "            background-color:  #b40426;\n",
       "        }</style>  \n",
       "<table id=\"T_8a47809c_52c4_11ec_831d_b88a60845f6b\" > \n",
       "<thead>    <tr> \n",
       "        <th class=\"blank level0\" ></th> \n",
       "        <th class=\"col_heading level0 col0\" >R</th> \n",
       "        <th class=\"col_heading level0 col1\" >EX0</th> \n",
       "        <th class=\"col_heading level0 col2\" >LF</th> \n",
       "    </tr></thead> \n",
       "<tbody>    <tr> \n",
       "        <th id=\"T_8a47809c_52c4_11ec_831d_b88a60845f6blevel0_row0\" class=\"row_heading level0 row0\" >R</th> \n",
       "        <td id=\"T_8a47809c_52c4_11ec_831d_b88a60845f6brow0_col0\" class=\"data row0 col0\" >1</td> \n",
       "        <td id=\"T_8a47809c_52c4_11ec_831d_b88a60845f6brow0_col1\" class=\"data row0 col1\" >0.687604</td> \n",
       "        <td id=\"T_8a47809c_52c4_11ec_831d_b88a60845f6brow0_col2\" class=\"data row0 col2\" >0.188866</td> \n",
       "    </tr>    <tr> \n",
       "        <th id=\"T_8a47809c_52c4_11ec_831d_b88a60845f6blevel0_row1\" class=\"row_heading level0 row1\" >EX0</th> \n",
       "        <td id=\"T_8a47809c_52c4_11ec_831d_b88a60845f6brow1_col0\" class=\"data row1 col0\" >0.687604</td> \n",
       "        <td id=\"T_8a47809c_52c4_11ec_831d_b88a60845f6brow1_col1\" class=\"data row1 col1\" >1</td> \n",
       "        <td id=\"T_8a47809c_52c4_11ec_831d_b88a60845f6brow1_col2\" class=\"data row1 col2\" >0.121493</td> \n",
       "    </tr>    <tr> \n",
       "        <th id=\"T_8a47809c_52c4_11ec_831d_b88a60845f6blevel0_row2\" class=\"row_heading level0 row2\" >LF</th> \n",
       "        <td id=\"T_8a47809c_52c4_11ec_831d_b88a60845f6brow2_col0\" class=\"data row2 col0\" >0.188866</td> \n",
       "        <td id=\"T_8a47809c_52c4_11ec_831d_b88a60845f6brow2_col1\" class=\"data row2 col1\" >0.121493</td> \n",
       "        <td id=\"T_8a47809c_52c4_11ec_831d_b88a60845f6brow2_col2\" class=\"data row2 col2\" >1</td> \n",
       "    </tr></tbody> \n",
       "</table> "
      ],
      "text/plain": [
       "<pandas.io.formats.style.Styler at 0x2497b72f630>"
      ]
     },
     "execution_count": 8,
     "metadata": {},
     "output_type": "execute_result"
    }
   ],
   "source": [
    "corr = df[list([col_3, col_1, col_2])].corr(method='pearson')\n",
    "corr.style.background_gradient(cmap='coolwarm')"
   ]
  },
  {
   "cell_type": "code",
   "execution_count": 9,
   "metadata": {},
   "outputs": [],
   "source": [
    "statistics_1, p_value_1 = st.stats.pearsonr(x1, y)"
   ]
  },
  {
   "cell_type": "code",
   "execution_count": 10,
   "metadata": {},
   "outputs": [
    {
     "name": "stdout",
     "output_type": "stream",
     "text": [
      "statistics_1 = 0.68760445570693\n",
      "p_value = 9.338015856389842e-08\n"
     ]
    }
   ],
   "source": [
    "print('statistics_1 =', statistics_1)\n",
    "print('p_value =', p_value_1)"
   ]
  },
  {
   "cell_type": "code",
   "execution_count": 11,
   "metadata": {},
   "outputs": [],
   "source": [
    "statistics_2, p_value_2 = st.stats.pearsonr(x2, y)"
   ]
  },
  {
   "cell_type": "code",
   "execution_count": 12,
   "metadata": {},
   "outputs": [
    {
     "name": "stdout",
     "output_type": "stream",
     "text": [
      "statistics_2 = 0.1888663475026354\n",
      "p_value = 0.2035810061722434\n"
     ]
    }
   ],
   "source": [
    "print('statistics_2 =', statistics_2)\n",
    "print('p_value =', p_value_2)"
   ]
  }
 ],
 "metadata": {
  "kernelspec": {
   "display_name": "Python 3",
   "language": "python",
   "name": "python3"
  },
  "language_info": {
   "codemirror_mode": {
    "name": "ipython",
    "version": 3
   },
   "file_extension": ".py",
   "mimetype": "text/x-python",
   "name": "python",
   "nbconvert_exporter": "python",
   "pygments_lexer": "ipython3",
   "version": "3.6.5"
  }
 },
 "nbformat": 4,
 "nbformat_minor": 2
}
